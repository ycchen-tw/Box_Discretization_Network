{
 "cells": [
  {
   "cell_type": "markdown",
   "id": "5e7f1682",
   "metadata": {},
   "source": [
    "從 https://github.com/Yuliang-Liu/Box_Discretization_Network\n",
    "下載ReCTS 2019 model，放到同樣的資料夾。\n",
    "\n",
    "還有比賽的訓練和測試資料，也放到同樣的資料夾。\n",
    "\n",
    "然後從頭執行到尾應該就能訓練邊預測結果了，\n",
    "本程式碼未經測試，所以有可能會出錯，如果執行上產生問題請再跟我聯絡，謝謝。"
   ]
  },
  {
   "cell_type": "markdown",
   "id": "83e5f919",
   "metadata": {},
   "source": [
    "# Import包包"
   ]
  },
  {
   "cell_type": "code",
   "execution_count": null,
   "id": "db7cb065",
   "metadata": {},
   "outputs": [],
   "source": [
    "import os\n",
    "import glob\n",
    "import json\n",
    "import cv2\n",
    "import numpy as np\n",
    "from matplotlib import pyplot as plt\n",
    "from tqdm.auto import tqdm\n",
    "import pandas as pd\n",
    "from sklearn.model_selection import train_test_split\n",
    "import seaborn as sns\n",
    "from PIL import Image, ImageOps"
   ]
  },
  {
   "cell_type": "code",
   "execution_count": null,
   "id": "ebb1f3c5",
   "metadata": {},
   "outputs": [],
   "source": [
    "!git clone https://github.com/cocodataset/cocoapi.git\n",
    "!cd cocoapi/PythonAPI && python setup.py build_ext install\n",
    "!git cd Box_Discretization_Network && python setup.py build develop"
   ]
  },
  {
   "cell_type": "markdown",
   "id": "881507fe",
   "metadata": {},
   "source": [
    "# 資料準備"
   ]
  },
  {
   "cell_type": "markdown",
   "id": "c6dcdb08",
   "metadata": {},
   "source": [
    "## 準備private set預測格式"
   ]
  },
  {
   "cell_type": "code",
   "execution_count": null,
   "id": "597b3e23",
   "metadata": {},
   "outputs": [],
   "source": [
    "data_list = []\n",
    "for i in tqdm(range(3001, 5501)):\n",
    "    img_path = f'img_{i}.jpg'\n",
    "\n",
    "    d = {}\n",
    "    d['img_name'] = img_path\n",
    "    d['annotations'] = []\n",
    "    \n",
    "    data_list.append(d)"
   ]
  },
  {
   "cell_type": "code",
   "execution_count": null,
   "id": "ddd58dfc",
   "metadata": {},
   "outputs": [],
   "source": [
    "train_data = {}\n",
    "train_data['images'] = []\n",
    "\n",
    "for i in tqdm(range(3001, 5501)):\n",
    "    img_path = f'img_{i}.jpg'\n",
    "    \n",
    "    im = Image.open(f'PrivateTestDataset/img/{img_path}')\n",
    "    im = ImageOps.exif_transpose(im)\n",
    "    w, h = im.size\n",
    "    im.save(f'PrivateTestDataset_exif/img/{img_path.lower()}')\n",
    "\n",
    "    train_data['images'].append({\n",
    "        \"id\":i,\n",
    "        \"file_name\": img_path.lower(),\n",
    "        \"height\": h,\n",
    "        \"width\": w,\n",
    "    })"
   ]
  },
  {
   "cell_type": "code",
   "execution_count": null,
   "id": "7d617ee8",
   "metadata": {},
   "outputs": [],
   "source": [
    "train_data['categories'] = [{\n",
    "    \"supercategory\": \"beverage\",\n",
    "    \"id\": 1,\n",
    "    \"name\": \"text\"\n",
    "}]"
   ]
  },
  {
   "cell_type": "code",
   "execution_count": null,
   "id": "bae960b2",
   "metadata": {},
   "outputs": [],
   "source": [
    "with open('./PrivateTestDataset_exif/coco_test.json', 'w')as file:\n",
    "    json.dump(train_data, file, indent=4)"
   ]
  },
  {
   "cell_type": "markdown",
   "id": "558eb561",
   "metadata": {},
   "source": [
    "## 準備訓練用資料格式"
   ]
  },
  {
   "cell_type": "code",
   "execution_count": null,
   "id": "9e57e473",
   "metadata": {},
   "outputs": [],
   "source": [
    "def round_list(data):\n",
    "    return np.array(data).round().astype('int').tolist()"
   ]
  },
  {
   "cell_type": "code",
   "execution_count": null,
   "id": "1c518af8",
   "metadata": {},
   "outputs": [],
   "source": [
    "data_list = []\n",
    "for i in tqdm(range(1, 4001)):\n",
    "    img_path = f'img_{i}.jpg'\n",
    "    label_path = f'TrainDataset/json/img_{i}.json'\n",
    "    \n",
    "    with open(label_path) as f:\n",
    "        label = json.load(f)\n",
    "    \n",
    "    d = {}\n",
    "    d['img_name'] = img_path\n",
    "    d['annotations'] = []\n",
    "    for points in label['shapes']:\n",
    "        points = np.array(points['points']).astype('int').reshape(-1)\n",
    "        xt = [points[ikpart] for ikpart in range(0, 8, 2)]\n",
    "        yt = [points[ikpart] for ikpart in range(1, 8, 2)]\n",
    "        xmin = min(xt)\n",
    "        xmax = max(xt)\n",
    "        ymin = min(yt)\n",
    "        ymax = max(yt)\n",
    "        d['annotations'].append([xmin, ymin, xmax, ymax, *points])\n",
    "    \n",
    "    \n",
    "    data_list.append(d)"
   ]
  },
  {
   "cell_type": "code",
   "execution_count": null,
   "id": "4390eef0",
   "metadata": {},
   "outputs": [],
   "source": [
    "for d in tqdm(data_list):\n",
    "    filename = d['img_name']\n",
    "    annotations = d['annotations']\n",
    "    \n",
    "    filename = filename.split('.')[0] + '.txt'\n",
    "    with open(f'TrainDataset/bdn_label_file/{filename}', 'w') as file:\n",
    "        for ann in annotations:\n",
    "            file.write(','.join([str(a) for a in ann]) + '\\n')"
   ]
  },
  {
   "cell_type": "markdown",
   "id": "7eb71b1c",
   "metadata": {},
   "source": [
    "# 訓練模型"
   ]
  },
  {
   "cell_type": "markdown",
   "id": "dc798562",
   "metadata": {},
   "source": [
    "## 準備訓練用json檔"
   ]
  },
  {
   "cell_type": "code",
   "execution_count": null,
   "id": "0a9c6c96",
   "metadata": {},
   "outputs": [],
   "source": [
    "!python convert_to_BDN_sequence_free.py TrainDataset aicup_train_bal 10\n",
    "!python convert_to_BDN_sequence_free.py TrainDataset aicup_valid_bal 10"
   ]
  },
  {
   "cell_type": "markdown",
   "id": "e7980e99",
   "metadata": {},
   "source": [
    "## 進行訓練"
   ]
  },
  {
   "cell_type": "code",
   "execution_count": null,
   "id": "8a013c8c",
   "metadata": {},
   "outputs": [],
   "source": [
    "!cd Box_Discretization_Network && sh quick_train_guide.sh"
   ]
  },
  {
   "cell_type": "markdown",
   "id": "b1ea4259",
   "metadata": {},
   "source": [
    "## 平均權重"
   ]
  },
  {
   "cell_type": "code",
   "execution_count": null,
   "id": "abfed46a",
   "metadata": {},
   "outputs": [],
   "source": [
    "import torch"
   ]
  },
  {
   "cell_type": "code",
   "execution_count": null,
   "id": "388c5388",
   "metadata": {},
   "outputs": [],
   "source": [
    "ckps = []\n",
    "for i in tqdm(range(12000, 20000+1, 1000)):\n",
    "    ckp_path = f'Box_Discretization_Network/output/BDN/rects_ft/model_00{i:05d}.pth'\n",
    "    ckps.append(torch.load(ckp_path, map_location='cpu'))"
   ]
  },
  {
   "cell_type": "code",
   "execution_count": null,
   "id": "8773f1d4",
   "metadata": {},
   "outputs": [],
   "source": [
    "new_ckp = torch.load(ckp_path, map_location='cpu')\n",
    "\n",
    "for model_key in tqdm(new_ckp['model'].keys()):\n",
    "    if 'int' in str(new_ckp['model'][model_key].dtype):\n",
    "        print(f'Skip {model_key}')\n",
    "        continue\n",
    "    weights = [ckp['model'][model_key] for ckp in ckps]\n",
    "    new_ckp['model'][model_key] = torch.mean(torch.stack(weights), 0)"
   ]
  },
  {
   "cell_type": "code",
   "execution_count": null,
   "id": "289ebf34",
   "metadata": {},
   "outputs": [],
   "source": [
    "torch.save(\n",
    "    new_ckp,\n",
    "    'Box_Discretization_Network/output/BDN/rects_ft/model_avg.pth',\n",
    "    _use_new_zipfile_serialization=False,\n",
    ")"
   ]
  },
  {
   "cell_type": "markdown",
   "id": "0be777db",
   "metadata": {},
   "source": [
    "## 使用模型預測"
   ]
  },
  {
   "cell_type": "code",
   "execution_count": null,
   "id": "f562e8c7",
   "metadata": {},
   "outputs": [],
   "source": [
    "!cd Box_Discretization_Network && sh my_test.sh"
   ]
  },
  {
   "cell_type": "markdown",
   "id": "ded1323c",
   "metadata": {},
   "source": [
    "# 轉換預測格式"
   ]
  },
  {
   "cell_type": "markdown",
   "id": "bc7409d0",
   "metadata": {},
   "source": [
    "## To Upload"
   ]
  },
  {
   "cell_type": "code",
   "execution_count": null,
   "id": "924e991d",
   "metadata": {},
   "outputs": [],
   "source": [
    "data_path = \"Box_Discretization_Network/output/BDN/rects_ft_new_12kto20k_private_exif/inference/aicup_private_test_exif/kes.json\"\n",
    "\n",
    "with open(data_path, 'r') as file:\n",
    "    raw_pred = json.load(file)\n",
    "    \n",
    "result = []\n",
    "thres = 0.91\n",
    "for p in raw_pred:\n",
    "    if p['score'] > thres:\n",
    "        result.append([p['image_id'], *np.array(p['ke_quad']).reshape(-1), 1.0])"
   ]
  },
  {
   "cell_type": "code",
   "execution_count": null,
   "id": "b53294d9",
   "metadata": {},
   "outputs": [],
   "source": [
    "pred_df = pd.DataFrame(result)"
   ]
  },
  {
   "cell_type": "code",
   "execution_count": null,
   "id": "caa49bbe",
   "metadata": {},
   "outputs": [],
   "source": [
    "pred_df.to_csv('final.csv', index=False, header=False)"
   ]
  },
  {
   "cell_type": "code",
   "execution_count": null,
   "id": "d83e8260",
   "metadata": {},
   "outputs": [],
   "source": []
  }
 ],
 "metadata": {
  "kernelspec": {
   "display_name": "Python 3",
   "language": "python",
   "name": "python3"
  },
  "language_info": {
   "codemirror_mode": {
    "name": "ipython",
    "version": 3
   },
   "file_extension": ".py",
   "mimetype": "text/x-python",
   "name": "python",
   "nbconvert_exporter": "python",
   "pygments_lexer": "ipython3",
   "version": "3.8.8"
  },
  "toc": {
   "base_numbering": 1,
   "nav_menu": {},
   "number_sections": true,
   "sideBar": true,
   "skip_h1_title": false,
   "title_cell": "Table of Contents",
   "title_sidebar": "Contents",
   "toc_cell": false,
   "toc_position": {
    "height": "calc(100% - 180px)",
    "left": "10px",
    "top": "150px",
    "width": "265.554px"
   },
   "toc_section_display": true,
   "toc_window_display": true
  }
 },
 "nbformat": 4,
 "nbformat_minor": 5
}
